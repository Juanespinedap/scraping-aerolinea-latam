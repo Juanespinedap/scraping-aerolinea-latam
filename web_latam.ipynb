{
 "cells": [
  {
   "cell_type": "code",
   "execution_count": 1,
   "metadata": {},
   "outputs": [],
   "source": [
    "import os\n",
    "from dotenv import load_dotenv\n",
    "import json\n",
    "import time\n",
    "from selenium import webdriver\n",
    "from selenium.webdriver.common.by import By\n"
   ]
  },
  {
   "cell_type": "code",
   "execution_count": 2,
   "metadata": {},
   "outputs": [],
   "source": [
    "def info_vuelos(url):\n",
    "\n",
    "    # cargar variables de entorno\n",
    "    load_dotenv()\n",
    "\n",
    "    # opciones\n",
    "    options = webdriver.ChromeOptions()\n",
    "    options.add_argument('--incognito') # entrar en ventana de incognito\n",
    "\n",
    "    # acceder a driver de selenium\n",
    "    path = os.getenv(\"path_chromedriver\")\n",
    "    driver = webdriver.Chrome(executable_path=path, options=options)\n",
    "\n",
    "    # entrar a la pagina\n",
    "    driver.get(url)\n",
    "    time.sleep(10)\n",
    "\n",
    "    # entrar al body donde esta la informacion de los vuelos\n",
    "    vuelos = driver.find_elements(by=By.XPATH, value='//li[@class=\"body-flightsstyle__ListItemAvailableFlights-sc__sc-1p74not-5 ixybDA\"]')\n",
    "\n",
    "    # diccionario a crear\n",
    "    informacion = {}\n",
    "    informacion[\"total_vuelos\"] = len(vuelos)\n",
    "    informacion[\"info\"] = []\n",
    "    vuelo = 0   # enumerar los vuelos\n",
    "\n",
    "    for i in vuelos:\n",
    "\n",
    "        # numero de vuelo\n",
    "        vuelo +=1\n",
    "\n",
    "        # horario del vuelo\n",
    "        hora = i.find_elements(by=By.XPATH, value='.//div[@class=\"card-flightstyle__ContainerFlightInfo-sc__sc-16r5pdw-15 cPzcrG flight-information\"]/span[@class=\"card-flightstyle__TextHourFlight-sc__sc-16r5pdw-18 kKmcWo\"]')\n",
    "        hora_salida = hora[0].text\n",
    "        hora_llegada = hora[1].text\n",
    "\n",
    "        # duracion del vuelo\n",
    "        duracion = i.find_element(by=By.XPATH, value='.//div[@class=\"card-flightstyle__ContainerFlightInfo-sc__sc-16r5pdw-15 cPzcrG flight-duration\"]/span[@class=\"card-flightstyle__TextTotalTimeFlight-sc__sc-16r5pdw-20 fuxJTD\"]')\n",
    "        duracion = duracion.text\n",
    "\n",
    "        # infomracion de escalas o si es vuelo directo\n",
    "        boton_escalas = i.find_element(by=By.XPATH, value='.//div[@class=\"card-flightstyle__ContainerFooterCard-sc__sc-16r5pdw-24 iMBDQD\"]/a')\n",
    "        escala = boton_escalas.text\n",
    "\n",
    "        # itinerario\n",
    "        boton_escalas = i.find_element(by=By.XPATH, value='.//div[@class=\"card-flightstyle__ContainerFooterCard-sc__sc-16r5pdw-24 iMBDQD\"]/a')\n",
    "        boton_escalas.click()\n",
    "        time.sleep(2)\n",
    "        \n",
    "        itinerario = i.find_element(by=By.XPATH, value='//article[@class=\"itinerarystyle__Wrapper-sc__sc-1n97ky6-0 hfhDJj\"]/span').text\n",
    "\n",
    "        boton_salir_escalas = driver.find_element(by=By.XPATH, value='//div[@class=\"MuiDialog-container MuiDialog-scrollPaper\"]//span[@class=\"MuiButton-label\"]')\n",
    "        boton_salir_escalas.click()\n",
    "\n",
    "        # acceder a la pagina de precios\n",
    "        i.click()\n",
    "\n",
    "        # extraer lista de elementos donde esta el cuadro de precios\n",
    "        tarifas = i.find_elements(by=By.XPATH, value='.//ol[@class=\"columnBrandListstyled__BrandListDesktop-sc__sc-ghohau-1 dcOsnT\"]/li[contains(@class, \"columnBrandstyle__BrandWrapper\")]')\n",
    "\n",
    "        precios = []\n",
    "        for j in tarifas:\n",
    "\n",
    "            # categoria\n",
    "            categoria = j.find_element(by=By.XPATH, value='./div[@class=\"columnBrandstyle__Brand-sc__sc-1e0tr9m-0 dPXqYU\"]/div[contains(@class, \"columnBrandstyle__BrandHeader\")]/span').text\n",
    "\n",
    "            # precio\n",
    "            moneda = j.find_element(by=By.XPATH, value='./div[@class=\"columnBrandstyle__Brand-sc__sc-1e0tr9m-0 dPXqYU\"]/div[contains(@class, \"columnBrandstyle__BrandFooter\")]//span[@class=\"display-currencystyle__CurrencyAmount-sc__sc-19mlo29-2 fMjBKP currency\"]').text\n",
    "            precio = j.find_element(by=By.XPATH, value='./div[@class=\"columnBrandstyle__Brand-sc__sc-1e0tr9m-0 dPXqYU\"]/div[contains(@class, \"columnBrandstyle__BrandFooter\")]//span[@class=\"display-currencystyle__CurrencyAmount-sc__sc-19mlo29-2 fMjBKP\"]').text\n",
    "            precio = precio.replace(\".\", \"\").replace(\",\", \"\")\n",
    "            precio = int(int(precio) / 100)\n",
    "            \n",
    "            # el aumento a la tarifa base\n",
    "            aumento = j.find_element(by=By.XPATH, value='.//div[@class=\"differentialPricestyle__DifferentialPriceContainer-sc__sc-1wmoeew-3 kKrPZH\"]//div[@class=\"display-currencystyle__WrapperCurrencyAmount-sc__sc-19mlo29-7 kbSkUi\"]//span[@class=\"display-currencystyle__CurrencyAmount-sc__sc-19mlo29-2 fMjBKP\"]').text\n",
    "            aumento = aumento.replace(\".\", \"\").replace(\",\", \"\")     # cambiar valores para transformar a integer\n",
    "            aumento = int(int(aumento) / 100)                       # quitar decimales\n",
    "\n",
    "            # no aumenta el precio base por si mismo (solo para el caso de la categoria basic)\n",
    "            if precio == aumento:\n",
    "                tarifa = f\"{moneda} {precio}\"       # moneda COP + precio\n",
    "\n",
    "            # suma de precio base con el precio del aumento\n",
    "            else:   \n",
    "                new_price = int(precio + aumento)\n",
    "                tarifa = f\"{moneda} {new_price}\"    # moneda COP + precio con aumento\n",
    "            \n",
    "            # anexar informacion del segundo for a lista de precios\n",
    "            precios.append({\"categoria\" : categoria, \n",
    "                            \"precio\" : tarifa\n",
    "                            })\n",
    "\n",
    "        # anexar informacion al primer for a diccionario\n",
    "        informacion[\"info\"].append({\"vuelo\" : vuelo, \n",
    "                                    \"hora_salida\" : hora_salida,\n",
    "                                    \"hora_llegada\" : hora_llegada,\n",
    "                                    \"duraion_vuelo\" : duracion,\n",
    "                                    \"escala\" : escala,\n",
    "                                    \"itinerario\" : itinerario,\n",
    "                                    \"tarifas\" : precios\n",
    "                                    })\n",
    "    print(\"Terminado\")\n",
    "    return driver, informacion"
   ]
  },
  {
   "attachments": {},
   "cell_type": "markdown",
   "metadata": {},
   "source": [
    "Invocar funcion e imprimir"
   ]
  },
  {
   "cell_type": "code",
   "execution_count": 3,
   "metadata": {},
   "outputs": [
    {
     "name": "stderr",
     "output_type": "stream",
     "text": [
      "C:\\Users\\Usuario\\AppData\\Local\\Temp\\ipykernel_6928\\2503912421.py:12: DeprecationWarning: executable_path has been deprecated, please pass in a Service object\n",
      "  driver = webdriver.Chrome(executable_path=path, options=options)\n"
     ]
    },
    {
     "name": "stdout",
     "output_type": "stream",
     "text": [
      "Terminado\n"
     ]
    }
   ],
   "source": [
    "# url de origen y destino con fechas. Extraido de la pagina de Latam\n",
    "url = \"https://www.latamairlines.com/co/es/ofertas-vuelos?origin=MDE&inbound=null&outbound=2023-06-11T17%3A00%3A00.000Z&destination=CTG&adt=1&chd=0&inf=0&trip=OW&cabin=Economy&redemption=false&sort=RECOMMENDED\"\n",
    "\n",
    "driver, datos = info_vuelos(url)"
   ]
  },
  {
   "cell_type": "code",
   "execution_count": 4,
   "metadata": {},
   "outputs": [],
   "source": [
    "# Crear .json de la respuesta\n",
    "with open('vuelos.json', 'w', encoding='utf-8') as archivo:\n",
    "    json.dump(datos, archivo, ensure_ascii=False, indent=4)     #  ensure_ascii=False para permitir la escritura de caracteres especiales en el archivo .json\n",
    "    "
   ]
  },
  {
   "cell_type": "code",
   "execution_count": 5,
   "metadata": {},
   "outputs": [],
   "source": [
    "# cerrar ventana\n",
    "driver.close()"
   ]
  }
 ],
 "metadata": {
  "kernelspec": {
   "display_name": "venv",
   "language": "python",
   "name": "python3"
  },
  "language_info": {
   "codemirror_mode": {
    "name": "ipython",
    "version": 3
   },
   "file_extension": ".py",
   "mimetype": "text/x-python",
   "name": "python",
   "nbconvert_exporter": "python",
   "pygments_lexer": "ipython3",
   "version": "3.10.6"
  },
  "orig_nbformat": 4
 },
 "nbformat": 4,
 "nbformat_minor": 2
}
